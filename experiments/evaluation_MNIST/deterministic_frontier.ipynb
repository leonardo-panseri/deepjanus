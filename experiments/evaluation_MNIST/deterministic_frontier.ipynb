{
 "cells": [
  {
   "cell_type": "code",
   "execution_count": 1,
   "id": "initial_id",
   "metadata": {
    "collapsed": true,
    "ExecuteTime": {
     "end_time": "2024-02-28T15:17:23.504418700Z",
     "start_time": "2024-02-28T15:17:23.486015200Z"
    }
   },
   "outputs": [],
   "source": [
    "import json"
   ]
  },
  {
   "cell_type": "code",
   "execution_count": 14,
   "outputs": [
    {
     "name": "stdout",
     "output_type": "stream",
     "text": [
      "In experiment 1:\n",
      "  Same region: 42\n",
      "  Different region: 41\n",
      "In experiment 2:\n",
      "  Same region: 51\n",
      "  Different region: 42\n",
      "In experiment 3:\n",
      "  Same region: 42\n",
      "  Different region: 45\n",
      "In experiment 4:\n",
      "  Same region: 47\n",
      "  Different region: 40\n",
      "In experiment 5:\n",
      "  Same region: 33\n",
      "  Different region: 53\n",
      "In experiment 6:\n",
      "  Same region: 36\n",
      "  Different region: 51\n",
      "In experiment 7:\n",
      "  Same region: 38\n",
      "  Different region: 48\n",
      "In experiment 8:\n",
      "  Same region: 43\n",
      "  Different region: 50\n",
      "In experiment 9:\n",
      "  Same region: 51\n",
      "  Different region: 37\n",
      "In experiment 10:\n",
      "  Same region: 43\n",
      "  Different region: 40\n"
     ]
    }
   ],
   "source": [
    "# Data structure:\n",
    "# dictionary with experiment names as keys (\"1\", \"2\", ...) and lists of probabilistic evaluations of all individuals as items.\n",
    "# A probabilistic evaluation for one individual is composed of two confidence intervals estimating the unsafe region of both members\n",
    "\n",
    "with open('experiment-MNIST-FSE/HQ/probabilistic_eval.json') as f:\n",
    "    data: dict = json.loads(f.read())\n",
    "\n",
    "for experiment, individuals_eval in data.items():\n",
    "    print(f'In experiment {experiment}:')\n",
    "    same_region = 0\n",
    "    different_region = 0\n",
    "    for (lb1, ub1), (lb2, ub2) in individuals_eval:\n",
    "        region_estimator_member1 = lb1 + (ub1 - lb1) / 2.\n",
    "        region_estimator_member2 = lb2 + (ub2 - lb2) / 2.\n",
    "        \n",
    "        dist = abs(region_estimator_member2 - region_estimator_member1)\n",
    "        \n",
    "        if dist < 0.5:\n",
    "            same_region += 1\n",
    "        else:\n",
    "            different_region += 1\n",
    "            \n",
    "    print(f'  Same region: {same_region}')\n",
    "    print(f'  Different region: {different_region}')"
   ],
   "metadata": {
    "collapsed": false,
    "ExecuteTime": {
     "end_time": "2024-02-28T15:29:33.064605800Z",
     "start_time": "2024-02-28T15:29:33.039776900Z"
    }
   },
   "id": "4b8c5964558ca1c9"
  },
  {
   "cell_type": "code",
   "execution_count": null,
   "outputs": [],
   "source": [],
   "metadata": {
    "collapsed": false
   },
   "id": "23c18dc002ad6dd"
  }
 ],
 "metadata": {
  "kernelspec": {
   "display_name": "Python 3",
   "language": "python",
   "name": "python3"
  },
  "language_info": {
   "codemirror_mode": {
    "name": "ipython",
    "version": 2
   },
   "file_extension": ".py",
   "mimetype": "text/x-python",
   "name": "python",
   "nbconvert_exporter": "python",
   "pygments_lexer": "ipython2",
   "version": "2.7.6"
  }
 },
 "nbformat": 4,
 "nbformat_minor": 5
}
