{
 "cells": [
  {
   "cell_type": "code",
   "execution_count": 1,
   "id": "initial_id",
   "metadata": {
    "collapsed": true,
    "ExecuteTime": {
     "end_time": "2024-03-22T13:20:34.572889300Z",
     "start_time": "2024-03-22T13:20:34.311210500Z"
    }
   },
   "outputs": [],
   "source": [
    "import json\n",
    "import matplotlib.pyplot as plt\n",
    "from matplotlib.figure import Figure\n",
    "from matplotlib.axes import Axes\n",
    "from matplotlib.container import BarContainer\n",
    "import numpy as np\n",
    "from pathlib import Path"
   ]
  },
  {
   "cell_type": "code",
   "execution_count": 2,
   "outputs": [
    {
     "name": "stdout",
     "output_type": "stream",
     "text": [
      "Loaded 20_unsafe data\n",
      "Loaded 50_unsafe data\n",
      "Loaded 60_unsafe data\n",
      "Loaded 80_unsafe data\n"
     ]
    }
   ],
   "source": [
    "from deepjanus_mnist.mnist_individual import MNISTIndividual\n",
    "from deepjanus_mnist.mnist_member import MNISTMember\n",
    "from deepjanus_mnist.mnist_problem import MNISTProblem\n",
    "from deepjanus_mnist.mnist_config import MNISTConfig\n",
    "from deepjanus_mnist.image_tools import bitmap_to_svg\n",
    "\n",
    "data = {}\n",
    "\n",
    "data_path = Path('./MNIST')\n",
    "experiment_types = data_path.glob('*/')\n",
    "for experiment_type in experiment_types:\n",
    "    if not experiment_type.is_dir():\n",
    "        continue\n",
    "\n",
    "    type_data = {}\n",
    "    \n",
    "    experiments = experiment_type.glob('*/')\n",
    "    for experiment in experiments:\n",
    "        if not experiment.is_dir():\n",
    "            continue\n",
    "        \n",
    "        experiment_data = {}\n",
    "        \n",
    "        with open(experiment.joinpath('report.json'), 'r') as f:\n",
    "            report = json.load(f)\n",
    "            experiment_data['time'] = report['time']\n",
    "        \n",
    "        archive = []\n",
    "        solutions = experiment.glob('archive/*.json')\n",
    "        for solution_path in solutions:\n",
    "            with open(solution_path, 'r') as f:\n",
    "                solution = json.load(f)\n",
    "            archive.append(solution)\n",
    "        experiment_data['archive'] = archive\n",
    "        \n",
    "        type_data[str(experiment.name)] = experiment_data\n",
    "    \n",
    "    data[str(experiment_type.name)] = type_data\n",
    "    print(f'Loaded {experiment_type.name} data')"
   ],
   "metadata": {
    "collapsed": false,
    "ExecuteTime": {
     "end_time": "2024-03-22T13:20:48.753086200Z",
     "start_time": "2024-03-22T13:20:36.313594Z"
    }
   },
   "id": "1b196b086b8f5147"
  },
  {
   "cell_type": "code",
   "execution_count": null,
   "outputs": [],
   "source": [],
   "metadata": {
    "collapsed": false
   },
   "id": "f9bb6a8156710082"
  }
 ],
 "metadata": {
  "kernelspec": {
   "display_name": "Python 3",
   "language": "python",
   "name": "python3"
  },
  "language_info": {
   "codemirror_mode": {
    "name": "ipython",
    "version": 2
   },
   "file_extension": ".py",
   "mimetype": "text/x-python",
   "name": "python",
   "nbconvert_exporter": "python",
   "pygments_lexer": "ipython2",
   "version": "2.7.6"
  }
 },
 "nbformat": 4,
 "nbformat_minor": 5
}
